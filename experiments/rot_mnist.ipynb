{
 "cells": [
  {
   "cell_type": "code",
   "execution_count": 1,
   "id": "035abcac-3d8c-4dd6-8722-a4e8abf2a1fe",
   "metadata": {
    "id": "035abcac-3d8c-4dd6-8722-a4e8abf2a1fe"
   },
   "outputs": [],
   "source": [
    "import sys\n",
    "sys.path.append(\"..\")\n",
    "\n",
    "import torch\n",
    "import torch.nn as nn\n",
    "import torch.optim as optim\n",
    "from torchvision import datasets, transforms\n",
    "from torch.utils.data import DataLoader, random_split\n",
    "\n",
    "import numpy as np\n",
    "import pandas as pd\n",
    "from typing import List\n",
    "from tabulate import tabulate\n",
    "from dataclasses import dataclass, field\n",
    "import matplotlib.pyplot as plt\n",
    "\n",
    "# Trainer\n",
    "from src.trainer.trainer import Trainer\n",
    "\n",
    "# Models\n",
    "from src.models.chA_p4_cnn import A_Ch_P4CNN\n",
    "from src.models.spA_p4_cnn import A_Sp_P4CNN\n",
    "from src.models.fA_p4_allcnn import fA_P4AllCNNC\n",
    "from src.models.big_cnn import B15_P4CNN, B11_P4CNN\n",
    "\n",
    "# Data Utils\n",
    "from src.datasets.rot_mnist_dataset import get_dataset"
   ]
  },
  {
   "cell_type": "markdown",
   "id": "ff987c1c-1bd1-43ff-9590-68b85acaaf0b",
   "metadata": {
    "id": "ff987c1c-1bd1-43ff-9590-68b85acaaf0b"
   },
   "source": [
    "## rot-MNIST dataset"
   ]
  },
  {
   "cell_type": "code",
   "execution_count": 2,
   "id": "0e8db10c-d12b-45c5-929e-80f5d4d0ee56",
   "metadata": {
    "id": "0e8db10c-d12b-45c5-929e-80f5d4d0ee56"
   },
   "outputs": [
    {
     "name": "stdout",
     "output_type": "stream",
     "text": [
      "Rotated MNIST already prepared.\n"
     ]
    }
   ],
   "source": [
    "train_loader, val_loader, test_loader = get_dataset(batch_size=128, num_workers=2)"
   ]
  },
  {
   "cell_type": "code",
   "execution_count": 3,
   "id": "3bb54b7e-50ea-4216-8f2e-c80bad071194",
   "metadata": {
    "colab": {
     "base_uri": "https://localhost:8080/",
     "height": 428
    },
    "id": "3bb54b7e-50ea-4216-8f2e-c80bad071194",
    "outputId": "32c6ac76-2f6f-49f3-843f-7f65eba1d6ec"
   },
   "outputs": [
    {
     "name": "stdout",
     "output_type": "stream",
     "text": [
      "Image shape: torch.Size([1, 28, 28])\n",
      "Squeezed shape: (28, 28)\n"
     ]
    },
    {
     "data": {
      "image/png": "[encoded data removed]",
      "text/plain": [
       "<Figure size 640x480 with 1 Axes>"
      ]
     },
     "metadata": {},
     "output_type": "display_data"
    }
   ],
   "source": [
    "import matplotlib.pyplot as plt\n",
    "\n",
    "images, labels = next(iter(train_loader))\n",
    "\n",
    "print(\"Image shape:\", images[0].shape)  \n",
    "image = images[0].squeeze().cpu().numpy()  \n",
    "print(\"Squeezed shape:\", image.shape)  \n",
    "\n",
    "# Plot\n",
    "plt.imshow(image, cmap='gray')\n",
    "plt.title(f\"Label: {labels[0].item()}\")\n",
    "plt.axis('off')\n",
    "plt.show()\n"
   ]
  },
  {
   "cell_type": "markdown",
   "id": "f6a8241b-b5a8-479f-bb9e-29d536497c74",
   "metadata": {
    "id": "f6a8241b-b5a8-479f-bb9e-29d536497c74"
   },
   "source": [
    "## Experiment"
   ]
  },
  {
   "cell_type": "code",
   "execution_count": 4,
   "id": "4ce515d9-ec4c-4468-a77b-067e2dc3389a",
   "metadata": {
    "id": "4ce515d9-ec4c-4468-a77b-067e2dc3389a"
   },
   "outputs": [],
   "source": [
    "# ----- Helper Functions -----\n",
    "def init_model(name):\n",
    "    if name == \"big15_p4_cnn\":\n",
    "        return B15_P4CNN()\n",
    "    if name == \"chA_p4_cnn\":\n",
    "        return A_Ch_P4CNN()\n",
    "    elif name == \"spA_p4_cnn\":\n",
    "        return A_Sp_P4CNN()\n",
    "    elif name == \"big11_p4_cnn\":\n",
    "        return B11_P4CNN()\n",
    "    elif name == \"fA_p4_allcnn\":\n",
    "        return fA_P4AllCNNC()\n",
    "    else:\n",
    "        raise ValueError(f\"Unknown model name: {name}\")\n",
    "\n",
    "def init_optimizer(model, lr, weight_decay):\n",
    "    return optim.SGD(model.parameters(), lr=lr, momentum=0.9, weight_decay=weight_decay)\n",
    "\n",
    "def init_scheduler(optimizer, milestones):\n",
    "    return optim.lr_scheduler.MultiStepLR(optimizer, milestones=[200, 250, 300], gamma=0.1)\n",
    "\n",
    "# ----- Helper Classes -----\n",
    "@dataclass\n",
    "class HyperParams:\n",
    "    lr: float\n",
    "    epochs: int\n",
    "    weight_decay: float\n",
    "    momentum: float\n",
    "    gamma: float\n",
    "    milestones: List[int] = field(default_factory=list)"
   ]
  },
  {
   "cell_type": "code",
   "execution_count": 5,
   "id": "9f09d087-4b4d-474a-ac17-1f4d87ae7cb4",
   "metadata": {
    "id": "9f09d087-4b4d-474a-ac17-1f4d87ae7cb4"
   },
   "outputs": [],
   "source": [
    "# ----- Configuration -----\n",
    "num_iterations = 3\n",
    "log_dir = \"../logs\"\n",
    "\n",
    "model_hyperparameters = {\n",
    "    \"big15_p4_cnn\":  HyperParams(lr=0.001, epochs=100, weight_decay=0.0001, momentum=0.9, milestones=[200, 250, 300], gamma=0.1),\n",
    "    \"chA_p4_cnn\":  HyperParams(lr=0.001, epochs=100, weight_decay=0.0001, momentum=0.9, milestones=[200, 250, 300], gamma=0.1),\n",
    "    \"spA_p4_cnn\": HyperParams(lr=0.001, epochs=100, weight_decay=0.0001, momentum=0.9, milestones=[200, 250, 300], gamma=0.1),\n",
    "    \"big11_p4_cnn\":  HyperParams(lr=0.001, epochs=100, weight_decay=0.0001, momentum=0.9, milestones=[200, 250, 300], gamma=0.1),\n",
    "    \"fA_p4_allcnn\": HyperParams(lr=0.001, epochs=100, weight_decay=0.0001, momentum=0.9, milestones=[200, 250, 300], gamma=0.1)\n",
    "}\n",
    "model_names = model_hyperparameters.keys()\n",
    "accuracies = {name: [] for name in model_names}"
   ]
  },
  {
   "cell_type": "code",
   "execution_count": 6,
   "id": "3eec0884-5ebf-44a7-b0e7-dcf1f71216db",
   "metadata": {
    "colab": {
     "base_uri": "https://localhost:8080/"
    },
    "id": "3eec0884-5ebf-44a7-b0e7-dcf1f71216db",
    "outputId": "24b6f1f2-4414-4705-a351-6f00636ec8fa"
   },
   "outputs": [
    {
     "name": "stdout",
     "output_type": "stream",
     "text": [
      "Iteration 1/3\n",
      "\n",
      "→ Training model: big15_p4_cnn\n",
      "Using device: cuda\n",
      "Current GPU: NVIDIA GeForce RTX 4070 Laptop GPU\n",
      "Training model : big15_p4_cnn\n"
     ]
    },
    {
     "name": "stderr",
     "output_type": "stream",
     "text": [
      "Training Epochs: 100%|███████████████████████████████████████████████████████████████| 100/100 [01:34<00:00,  1.05it/s, Train Acc=0.7797, Val Acc=0.1045, Train Loss=0.7100, Val Loss=49.0688]\n"
     ]
    },
    {
     "name": "stdout",
     "output_type": "stream",
     "text": [
      "\n",
      "→ Training model: chA_p4_cnn\n",
      "Using device: cuda\n",
      "Current GPU: NVIDIA GeForce RTX 4070 Laptop GPU\n",
      "Training model : chA_p4_cnn\n"
     ]
    },
    {
     "name": "stderr",
     "output_type": "stream",
     "text": [
      "Training Epochs: 100%|████████████████████████████████████████████████████████████████| 100/100 [12:26<00:00,  7.46s/it, Train Acc=0.9284, Val Acc=0.1085, Train Loss=0.2169, Val Loss=5.4928]\n"
     ]
    },
    {
     "name": "stdout",
     "output_type": "stream",
     "text": [
      "\n",
      "→ Training model: spA_p4_cnn\n",
      "Using device: cuda\n",
      "Current GPU: NVIDIA GeForce RTX 4070 Laptop GPU\n",
      "Training model : spA_p4_cnn\n"
     ]
    },
    {
     "name": "stderr",
     "output_type": "stream",
     "text": [
      "Training Epochs: 100%|███████████████████████████████████████████████████████████████| 100/100 [14:17<00:00,  8.58s/it, Train Acc=0.9355, Val Acc=0.1045, Train Loss=0.2002, Val Loss=11.6627]\n"
     ]
    },
    {
     "name": "stdout",
     "output_type": "stream",
     "text": [
      "\n",
      "→ Training model: big11_p4_cnn\n",
      "Using device: cuda\n",
      "Current GPU: NVIDIA GeForce RTX 4070 Laptop GPU\n",
      "Training model : big11_p4_cnn\n"
     ]
    },
    {
     "name": "stderr",
     "output_type": "stream",
     "text": [
      "Training Epochs: 100%|███████████████████████████████████████████████████████████████| 100/100 [01:05<00:00,  1.53it/s, Train Acc=0.9385, Val Acc=0.1045, Train Loss=0.1890, Val Loss=13.6430]\n"
     ]
    },
    {
     "name": "stdout",
     "output_type": "stream",
     "text": [
      "\n",
      "→ Training model: fA_p4_allcnn\n",
      "Using device: cuda\n",
      "Current GPU: NVIDIA GeForce RTX 4070 Laptop GPU\n",
      "Training model : fA_p4_allcnn\n"
     ]
    },
    {
     "name": "stderr",
     "output_type": "stream",
     "text": [
      "Training Epochs: 100%|████████████████████████████████████████████████████████████████| 100/100 [15:10<00:00,  9.11s/it, Train Acc=0.9961, Val Acc=0.3625, Train Loss=0.1457, Val Loss=2.0457]\n"
     ]
    },
    {
     "name": "stdout",
     "output_type": "stream",
     "text": [
      "Iteration 2/3\n",
      "\n",
      "→ Training model: big15_p4_cnn\n",
      "Using device: cuda\n",
      "Current GPU: NVIDIA GeForce RTX 4070 Laptop GPU\n",
      "Training model : big15_p4_cnn\n"
     ]
    },
    {
     "name": "stderr",
     "output_type": "stream",
     "text": [
      "Training Epochs: 100%|███████████████████████████████████████████████████████████████| 100/100 [01:36<00:00,  1.03it/s, Train Acc=0.8336, Val Acc=0.1045, Train Loss=0.5247, Val Loss=29.7184]\n"
     ]
    },
    {
     "name": "stdout",
     "output_type": "stream",
     "text": [
      "\n",
      "→ Training model: chA_p4_cnn\n",
      "Using device: cuda\n",
      "Current GPU: NVIDIA GeForce RTX 4070 Laptop GPU\n",
      "Training model : chA_p4_cnn\n"
     ]
    },
    {
     "name": "stderr",
     "output_type": "stream",
     "text": [
      "Training Epochs: 100%|████████████████████████████████████████████████████████████████| 100/100 [12:22<00:00,  7.43s/it, Train Acc=0.9324, Val Acc=0.1045, Train Loss=0.2194, Val Loss=9.7999]\n"
     ]
    },
    {
     "name": "stdout",
     "output_type": "stream",
     "text": [
      "\n",
      "→ Training model: spA_p4_cnn\n",
      "Using device: cuda\n",
      "Current GPU: NVIDIA GeForce RTX 4070 Laptop GPU\n",
      "Training model : spA_p4_cnn\n"
     ]
    },
    {
     "name": "stderr",
     "output_type": "stream",
     "text": [
      "Training Epochs: 100%|███████████████████████████████████████████████████████████████| 100/100 [14:17<00:00,  8.57s/it, Train Acc=0.9404, Val Acc=0.1045, Train Loss=0.1889, Val Loss=14.9389]\n"
     ]
    },
    {
     "name": "stdout",
     "output_type": "stream",
     "text": [
      "\n",
      "→ Training model: big11_p4_cnn\n",
      "Using device: cuda\n",
      "Current GPU: NVIDIA GeForce RTX 4070 Laptop GPU\n",
      "Training model : big11_p4_cnn\n"
     ]
    },
    {
     "name": "stderr",
     "output_type": "stream",
     "text": [
      "Training Epochs: 100%|████████████████████████████████████████████████████████████████| 100/100 [01:07<00:00,  1.49it/s, Train Acc=0.9376, Val Acc=0.2945, Train Loss=0.1968, Val Loss=3.4361]\n"
     ]
    },
    {
     "name": "stdout",
     "output_type": "stream",
     "text": [
      "\n",
      "→ Training model: fA_p4_allcnn\n",
      "Using device: cuda\n",
      "Current GPU: NVIDIA GeForce RTX 4070 Laptop GPU\n",
      "Training model : fA_p4_allcnn\n"
     ]
    },
    {
     "name": "stderr",
     "output_type": "stream",
     "text": [
      "Training Epochs: 100%|████████████████████████████████████████████████████████████████| 100/100 [15:10<00:00,  9.10s/it, Train Acc=0.9954, Val Acc=0.2555, Train Loss=0.1533, Val Loss=2.5125]\n"
     ]
    },
    {
     "name": "stdout",
     "output_type": "stream",
     "text": [
      "Iteration 3/3\n",
      "\n",
      "→ Training model: big15_p4_cnn\n",
      "Using device: cuda\n",
      "Current GPU: NVIDIA GeForce RTX 4070 Laptop GPU\n",
      "Training model : big15_p4_cnn\n"
     ]
    },
    {
     "name": "stderr",
     "output_type": "stream",
     "text": [
      "Training Epochs: 100%|████████████████████████████████████████████████████████████████| 100/100 [01:37<00:00,  1.03it/s, Train Acc=0.8169, Val Acc=0.3690, Train Loss=0.5865, Val Loss=3.0712]\n"
     ]
    },
    {
     "name": "stdout",
     "output_type": "stream",
     "text": [
      "\n",
      "→ Training model: chA_p4_cnn\n",
      "Using device: cuda\n",
      "Current GPU: NVIDIA GeForce RTX 4070 Laptop GPU\n",
      "Training model : chA_p4_cnn\n"
     ]
    },
    {
     "name": "stderr",
     "output_type": "stream",
     "text": [
      "Training Epochs: 100%|███████████████████████████████████████████████████████████████| 100/100 [12:31<00:00,  7.51s/it, Train Acc=0.9303, Val Acc=0.1045, Train Loss=0.2167, Val Loss=11.4171]\n"
     ]
    },
    {
     "name": "stdout",
     "output_type": "stream",
     "text": [
      "\n",
      "→ Training model: spA_p4_cnn\n",
      "Using device: cuda\n",
      "Current GPU: NVIDIA GeForce RTX 4070 Laptop GPU\n",
      "Training model : spA_p4_cnn\n"
     ]
    },
    {
     "name": "stderr",
     "output_type": "stream",
     "text": [
      "Training Epochs: 100%|████████████████████████████████████████████████████████████████| 100/100 [14:34<00:00,  8.74s/it, Train Acc=0.9356, Val Acc=0.4490, Train Loss=0.2030, Val Loss=2.4517]\n"
     ]
    },
    {
     "name": "stdout",
     "output_type": "stream",
     "text": [
      "\n",
      "→ Training model: big11_p4_cnn\n",
      "Using device: cuda\n",
      "Current GPU: NVIDIA GeForce RTX 4070 Laptop GPU\n",
      "Training model : big11_p4_cnn\n"
     ]
    },
    {
     "name": "stderr",
     "output_type": "stream",
     "text": [
      "Training Epochs: 100%|███████████████████████████████████████████████████████████████| 100/100 [01:08<00:00,  1.45it/s, Train Acc=0.9325, Val Acc=0.1045, Train Loss=0.2075, Val Loss=12.2635]\n"
     ]
    },
    {
     "name": "stdout",
     "output_type": "stream",
     "text": [
      "\n",
      "→ Training model: fA_p4_allcnn\n",
      "Using device: cuda\n",
      "Current GPU: NVIDIA GeForce RTX 4070 Laptop GPU\n",
      "Training model : fA_p4_allcnn\n"
     ]
    },
    {
     "name": "stderr",
     "output_type": "stream",
     "text": [
      "Training Epochs: 100%|████████████████████████████████████████████████████████████████| 100/100 [15:16<00:00,  9.16s/it, Train Acc=0.9965, Val Acc=0.4250, Train Loss=0.1304, Val Loss=1.9206]\n"
     ]
    }
   ],
   "source": [
    "# ----- Main Training Loop -----\n",
    "for it in range(num_iterations):\n",
    "    print(f\"Iteration {it + 1}/{num_iterations}\")\n",
    "\n",
    "    for name in model_names:\n",
    "        print(f\"\\n→ Training model: {name}\")\n",
    "\n",
    "        # 1. Grab hyperparams for this model\n",
    "        hp = model_hyperparameters[name]\n",
    "\n",
    "        # 2. Initialize model, criterion, optimizer, scheduler\n",
    "        model = init_model(name)\n",
    "        criterion = nn.CrossEntropyLoss()\n",
    "        optimizer = optim.SGD(\n",
    "            model.parameters(),\n",
    "            lr=hp.lr,\n",
    "            momentum=hp.momentum,\n",
    "            weight_decay=hp.weight_decay\n",
    "        )\n",
    "        scheduler = optim.lr_scheduler.MultiStepLR(\n",
    "            optimizer,\n",
    "            milestones=hp.milestones,\n",
    "            gamma=hp.gamma\n",
    "        )\n",
    "\n",
    "        # 3. Wrap in our Trainer (single‐model)\n",
    "        trainer = Trainer(\n",
    "            models={name: model},\n",
    "            optimizers=[optimizer],\n",
    "            criterions=[criterion],\n",
    "            schedulers=[scheduler],\n",
    "            log_dir=f\"{log_dir}/{name}\"\n",
    "        )\n",
    "\n",
    "        # 4. Train & validate with the model‐specific epoch count\n",
    "        trainer.train(\n",
    "            num_epochs=hp.epochs,\n",
    "            train_loader=train_loader,\n",
    "            val_loader=val_loader,\n",
    "        )\n",
    "\n",
    "        # 5. Evaluate on test set and record accuracy\n",
    "        test_acc = trainer.evaluate(test_loader=test_loader)[name]\n",
    "        accuracies[name].append(test_acc)"
   ]
  },
  {
   "cell_type": "code",
   "execution_count": 7,
   "id": "9a805b45-7bdd-4bc9-84ca-581d7f5587f6",
   "metadata": {
    "id": "9a805b45-7bdd-4bc9-84ca-581d7f5587f6"
   },
   "outputs": [],
   "source": [
    "# ----- Final Statistics -----\n",
    "final_stats = {\n",
    "    name: {\n",
    "        \"% Test error\": (1 - float(np.mean(vals))) * 100,\n",
    "        \"% std\": float(np.std(vals)) * 100,\n",
    "        \"Num Parameters\": sum(p.numel() for p in init_model(name).parameters())\n",
    "    }\n",
    "    for name, vals in accuracies.items()\n",
    "}"
   ]
  },
  {
   "cell_type": "markdown",
   "id": "2e2827a4-7a77-4f14-b1e4-f9eb7f10fd80",
   "metadata": {
    "id": "2e2827a4-7a77-4f14-b1e4-f9eb7f10fd80"
   },
   "source": [
    "## Table generation"
   ]
  },
  {
   "cell_type": "code",
   "execution_count": 8,
   "id": "4dfa9492-1e4e-4e19-ad0f-7a384fa167f5",
   "metadata": {
    "colab": {
     "base_uri": "https://localhost:8080/"
    },
    "id": "4dfa9492-1e4e-4e19-ad0f-7a384fa167f5",
    "outputId": "9a6ea1f3-bb91-4683-ac37-bdde9a392cc9"
   },
   "outputs": [
    {
     "name": "stdout",
     "output_type": "stream",
     "text": [
      "📊 Model Accuracy Summary in CIFAR10\n",
      "\n",
      "╒══════════════╤════════════════╤═════════╤══════════════════╕\n",
      "│              │   % Test error │   % std │   Num Parameters │\n",
      "╞══════════════╪════════════════╪═════════╪══════════════════╡\n",
      "│ big15_p4_cnn │          38.6  │   15.25 │  42710           │\n",
      "├──────────────┼────────────────┼─────────┼──────────────────┤\n",
      "│ chA_p4_cnn   │           5.13 │    0.05 │  45830           │\n",
      "├──────────────┼────────────────┼─────────┼──────────────────┤\n",
      "│ spA_p4_cnn   │           4.88 │    0.19 │  46310           │\n",
      "├──────────────┼────────────────┼─────────┼──────────────────┤\n",
      "│ big11_p4_cnn │           5.78 │    1.75 │  24610           │\n",
      "├──────────────┼────────────────┼─────────┼──────────────────┤\n",
      "│ fA_p4_allcnn │           3.4  │    0.48 │      1.40012e+06 │\n",
      "╘══════════════╧════════════════╧═════════╧══════════════════╛\n"
     ]
    }
   ],
   "source": [
    "df = pd.DataFrame.from_dict(final_stats, orient='index')\n",
    "df = df.round(2)\n",
    "print(\"📊 Model Accuracy Summary in CIFAR10\\n\")\n",
    "print(tabulate(df, headers=\"keys\", tablefmt=\"fancy_grid\"))"
   ]
  }
 ],
 "metadata": {
  "accelerator": "GPU",
  "colab": {
   "gpuType": "T4",
   "provenance": []
  },
  "kernelspec": {
   "display_name": "Python 3 (ipykernel)",
   "language": "python",
   "name": "python3"
  },
  "language_info": {
   "codemirror_mode": {
    "name": "ipython",
    "version": 3
   },
   "file_extension": ".py",
   "mimetype": "text/x-python",
   "name": "python",
   "nbconvert_exporter": "python",
   "pygments_lexer": "ipython3",
   "version": "3.12.9"
  }
 },
 "nbformat": 4,
 "nbformat_minor": 5
}
