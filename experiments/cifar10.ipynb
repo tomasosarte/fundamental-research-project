{
 "cells": [
  {
   "cell_type": "code",
   "execution_count": 1,
   "id": "035abcac-3d8c-4dd6-8722-a4e8abf2a1fe",
   "metadata": {},
   "outputs": [],
   "source": [
    "import sys\n",
    "sys.path.append(\"..\")\n",
    "\n",
    "import torch\n",
    "import torch.nn as nn\n",
    "import torch.optim as optim\n",
    "from torchvision import datasets, transforms\n",
    "from torch.utils.data import DataLoader, random_split\n",
    "\n",
    "import numpy as np\n",
    "\n",
    "# Trainer\n",
    "from src.trainer.trainer import Trainer\n",
    "\n",
    "# Networks\n",
    "from src.models.mlp import MLP"
   ]
  },
  {
   "cell_type": "markdown",
   "id": "ff987c1c-1bd1-43ff-9590-68b85acaaf0b",
   "metadata": {},
   "source": [
    "## CIFAR10 dataset"
   ]
  },
  {
   "cell_type": "code",
   "execution_count": 2,
   "id": "0e8db10c-d12b-45c5-929e-80f5d4d0ee56",
   "metadata": {},
   "outputs": [],
   "source": [
    "root_path = \"../data\"\n",
    "transform_train = transforms.Compose([\n",
    "    transforms.RandomHorizontalFlip(),\n",
    "    transforms.RandomCrop(32, padding=4),\n",
    "    transforms.ToTensor()\n",
    "])\n",
    "transform_test = transforms.ToTensor()\n",
    "\n",
    "full_train = datasets.CIFAR10(root=root_path, train=True, download=True, transform=transform_train)\n",
    "\n",
    "train_size = int(0.9 * len(full_train))\n",
    "val_size = len(full_train) - train_size\n",
    "train_set, val_set = random_split(full_train, [train_size, val_size])\n",
    "test_set = datasets.CIFAR10(root=root_path, train=False, download=True, transform=transform_test)\n",
    "\n",
    "\n",
    "batch_size = 128\n",
    "train_loader = DataLoader(train_set, batch_size=batch_size, shuffle=True, num_workers=2)\n",
    "val_loader = DataLoader(val_set, batch_size=batch_size, shuffle=False, num_workers=2)\n",
    "test_loader = DataLoader(test_set, batch_size=batch_size, shuffle=False, num_workers=2)"
   ]
  },
  {
   "cell_type": "code",
   "execution_count": 3,
   "id": "3bb54b7e-50ea-4216-8f2e-c80bad071194",
   "metadata": {},
   "outputs": [
    {
     "name": "stdout",
     "output_type": "stream",
     "text": [
      "torch.Size([3, 32, 32])\n"
     ]
    }
   ],
   "source": [
    "img, label = full_train[0]\n",
    "print(img.shape)"
   ]
  },
  {
   "cell_type": "markdown",
   "id": "f6a8241b-b5a8-479f-bb9e-29d536497c74",
   "metadata": {},
   "source": [
    "## Table generation"
   ]
  },
  {
   "cell_type": "code",
   "execution_count": 5,
   "id": "3eec0884-5ebf-44a7-b0e7-dcf1f71216db",
   "metadata": {},
   "outputs": [
    {
     "name": "stdout",
     "output_type": "stream",
     "text": [
      "Using device: cuda\n",
      "Current GPU: NVIDIA GeForce RTX 4070 Laptop GPU\n",
      "Training models...\n",
      "Training model : mlp\n"
     ]
    },
    {
     "name": "stderr",
     "output_type": "stream",
     "text": [
      "Training Epochs: 100%|██████████████████████████████████████████████████████████████████| 10/10 [00:24<00:00,  2.41s/it, Train Acc=0.2237, Val Acc=0.2122, Train Loss=2.0284, Val Loss=2.0299]"
     ]
    },
    {
     "name": "stdout",
     "output_type": "stream",
     "text": [
      "Testing models...\n"
     ]
    },
    {
     "name": "stderr",
     "output_type": "stream",
     "text": [
      "\n"
     ]
    },
    {
     "name": "stdout",
     "output_type": "stream",
     "text": [
      "Using device: cuda\n",
      "Current GPU: NVIDIA GeForce RTX 4070 Laptop GPU\n",
      "Training models...\n",
      "Training model : mlp\n"
     ]
    },
    {
     "name": "stderr",
     "output_type": "stream",
     "text": [
      "Training Epochs: 100%|██████████████████████████████████████████████████████████████████| 10/10 [00:23<00:00,  2.40s/it, Train Acc=0.2412, Val Acc=0.2496, Train Loss=1.9838, Val Loss=2.0426]"
     ]
    },
    {
     "name": "stdout",
     "output_type": "stream",
     "text": [
      "Testing models...\n"
     ]
    },
    {
     "name": "stderr",
     "output_type": "stream",
     "text": [
      "\n"
     ]
    },
    {
     "name": "stdout",
     "output_type": "stream",
     "text": [
      "Using device: cuda\n",
      "Current GPU: NVIDIA GeForce RTX 4070 Laptop GPU\n",
      "Training models...\n",
      "Training model : mlp\n"
     ]
    },
    {
     "name": "stderr",
     "output_type": "stream",
     "text": [
      "Training Epochs: 100%|██████████████████████████████████████████████████████████████████| 10/10 [00:23<00:00,  2.40s/it, Train Acc=0.2408, Val Acc=0.2400, Train Loss=1.9978, Val Loss=2.0099]"
     ]
    },
    {
     "name": "stdout",
     "output_type": "stream",
     "text": [
      "Testing models...\n"
     ]
    },
    {
     "name": "stderr",
     "output_type": "stream",
     "text": [
      "\n"
     ]
    }
   ],
   "source": [
    "# Init training variables\n",
    "num_epochs = 10\n",
    "num_iterations = 3\n",
    "log_dir = \"../logs\"\n",
    "accuracies = {\n",
    "    \"mlp\": []\n",
    "}\n",
    "\n",
    "# ----- Init model paramerters -----\n",
    "\n",
    "## MLP parameters:\n",
    "input_size = 3 * 32 * 32\n",
    "output_size = 10\n",
    "hidden_sizes = [128, 64]\n",
    "\n",
    "## ---------------------------------\n",
    "\n",
    "for it in range(num_iterations):\n",
    "    \n",
    "    # ----- Models initialization -----\n",
    "    mlp_model = MLP(\n",
    "        input_size = input_size,\n",
    "        hidden_sizes = hidden_sizes,\n",
    "        output_size = output_size\n",
    "    )\n",
    "\n",
    "    # ---------------------------------\n",
    "\n",
    "    # ----- Other parameter initialization -----\n",
    "    mlp_criterion = nn.CrossEntropyLoss()\n",
    "    mlp_optimizer = optim.SGD(mlp_model.parameters(), lr=0.1, momentum=0.9, weight_decay=1e-4)\n",
    "    mlp_scheduler = optim.lr_scheduler.MultiStepLR(mlp_optimizer, milestones=[200, 250, 300], gamma=0.1)\n",
    "\n",
    "    # ------------------------------------------\n",
    "\n",
    "    # Generate lists\n",
    "    models = {\n",
    "        \"mlp\": mlp_model\n",
    "    }\n",
    "    criterions = [mlp_criterion]\n",
    "    optimizers = [mlp_optimizer]\n",
    "    schedulers = [mlp_scheduler]\n",
    "\n",
    "    # -------------------------------------------\n",
    "    \n",
    "    trainer = Trainer(\n",
    "        models = models,\n",
    "        optimizers = optimizers,\n",
    "        criterions = criterions,\n",
    "        schedulers = schedulers,\n",
    "        log_dir = log_dir\n",
    "    )\n",
    "\n",
    "    # Train models on dataset\n",
    "    print(\"Training models...\")\n",
    "    trainer.train(\n",
    "        num_epochs = num_epochs,\n",
    "        train_loader = train_loader,\n",
    "        val_loader = val_loader,\n",
    "    )\n",
    "\n",
    "    # Evaluate models on dataset\n",
    "    print(\"Testing models...\")\n",
    "    test_accuracies = trainer.evaluate(test_loader = test_loader)\n",
    "\n",
    "    for model_name, acc in test_accuracies.items():\n",
    "        accuracies[model_name].append(acc)"
   ]
  },
  {
   "cell_type": "code",
   "execution_count": 6,
   "id": "59ef7e2b-e235-48aa-b4dd-f9bd280f752e",
   "metadata": {},
   "outputs": [
    {
     "data": {
      "text/plain": [
       "{'mlp': [0.2207, 0.2449, 0.2485]}"
      ]
     },
     "execution_count": 6,
     "metadata": {},
     "output_type": "execute_result"
    }
   ],
   "source": [
    "accuracies"
   ]
  },
  {
   "cell_type": "code",
   "execution_count": 7,
   "id": "21576697-f178-414b-b969-9deffa9defac",
   "metadata": {},
   "outputs": [
    {
     "data": {
      "text/plain": [
       "{'mlp': {'mean': 0.23803333333333332, 'std': 0.012344319431310183}}"
      ]
     },
     "execution_count": 7,
     "metadata": {},
     "output_type": "execute_result"
    }
   ],
   "source": [
    "stats = {\n",
    "    model_name: {\n",
    "        \"mean\": float(np.mean(values)),\n",
    "        \"std\": float(np.std(values))\n",
    "    }\n",
    "    for model_name, values in accuracies.items()\n",
    "}\n",
    "stats"
   ]
  }
 ],
 "metadata": {
  "kernelspec": {
   "display_name": "Python 3 (ipykernel)",
   "language": "python",
   "name": "python3"
  },
  "language_info": {
   "codemirror_mode": {
    "name": "ipython",
    "version": 3
   },
   "file_extension": ".py",
   "mimetype": "text/x-python",
   "name": "python",
   "nbconvert_exporter": "python",
   "pygments_lexer": "ipython3",
   "version": "3.12.9"
  }
 },
 "nbformat": 4,
 "nbformat_minor": 5
}
