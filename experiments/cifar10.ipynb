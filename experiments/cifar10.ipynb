{
 "cells": [
  {
   "cell_type": "code",
   "execution_count": null,
   "id": "035abcac-3d8c-4dd6-8722-a4e8abf2a1fe",
   "metadata": {
    "id": "035abcac-3d8c-4dd6-8722-a4e8abf2a1fe"
   },
   "outputs": [],
   "source": [
    "import os\n",
    "import re\n",
    "import sys\n",
    "sys.path.append(\"..\")\n",
    "\n",
    "import torch\n",
    "import torch.nn as nn\n",
    "import torch.optim as optim\n",
    "from torchvision import datasets, transforms\n",
    "from torch.utils.data import DataLoader, random_split\n",
    "\n",
    "import numpy as np\n",
    "import pandas as pd\n",
    "from typing import List\n",
    "from tabulate import tabulate\n",
    "from dataclasses import dataclass, field\n",
    "\n",
    "# Trainer\n",
    "from src.trainer.trainer import Trainer\n",
    "\n",
    "# Models\n",
    "from src.models.mlp import MLP\n",
    "from src.models.p4_allcnn import P4AllCNNC\n",
    "from src.models.fA_p4_allcnn import fA_P4AllCNNC\n",
    "from src.models.p4m_allcnn import  P4MAllCNNC\n",
    "from src.models.fA_p4m_allcnn import fA_P4MAllCNNC\n",
    "from src.models.p4m_resnet import  P4MResNet\n",
    "from src.models.fA_p4_resnet import fA_P4MResNet\n",
    "from src.models.dbageconv import DBAGEConvNet"
   ]
  },
  {
   "cell_type": "markdown",
   "id": "ff987c1c-1bd1-43ff-9590-68b85acaaf0b",
   "metadata": {
    "id": "ff987c1c-1bd1-43ff-9590-68b85acaaf0b"
   },
   "source": [
    "## CIFAR10 dataset"
   ]
  },
  {
   "cell_type": "code",
   "execution_count": null,
   "id": "0e8db10c-d12b-45c5-929e-80f5d4d0ee56",
   "metadata": {
    "colab": {
     "base_uri": "https://localhost:8080/"
    },
    "id": "0e8db10c-d12b-45c5-929e-80f5d4d0ee56",
    "outputId": "67a32a70-a59b-424f-ce4c-15489f4ba5df"
   },
   "outputs": [],
   "source": [
    "root_path = \"../data\"\n",
    "transform_train = transforms.Compose([\n",
    "    transforms.RandomHorizontalFlip(),\n",
    "    transforms.RandomCrop(32, padding=4),\n",
    "    transforms.ToTensor()\n",
    "])\n",
    "transform_test = transforms.ToTensor()\n",
    "\n",
    "full_train = datasets.CIFAR10(root=root_path, train=True, download=True, transform=transform_train)\n",
    "\n",
    "train_size = int(0.9 * len(full_train))\n",
    "val_size = len(full_train) - train_size\n",
    "train_set, val_set = random_split(full_train, [train_size, val_size])\n",
    "test_set = datasets.CIFAR10(root=root_path, train=False, download=True, transform=transform_test)\n",
    "\n",
    "num_workers = 4\n",
    "batch_size = 128\n",
    "train_loader = DataLoader(train_set, batch_size=batch_size, shuffle=True, num_workers=num_workers, pin_memory=True)\n",
    "val_loader = DataLoader(val_set, batch_size=batch_size, shuffle=False, num_workers=num_workers, pin_memory=True)\n",
    "test_loader = DataLoader(test_set, batch_size=batch_size, shuffle=False, num_workers=num_workers, pin_memory=True)"
   ]
  },
  {
   "cell_type": "markdown",
   "id": "f6a8241b-b5a8-479f-bb9e-29d536497c74",
   "metadata": {
    "id": "f6a8241b-b5a8-479f-bb9e-29d536497c74"
   },
   "source": [
    "## Experiment"
   ]
  },
  {
   "cell_type": "code",
   "execution_count": null,
   "id": "4ce515d9-ec4c-4468-a77b-067e2dc3389a",
   "metadata": {
    "id": "4ce515d9-ec4c-4468-a77b-067e2dc3389a"
   },
   "outputs": [],
   "source": [
    "# ----- Helper Functions -----\n",
    "def init_model(name):\n",
    "    if name == \"p4_allcnn\":\n",
    "        return P4AllCNNC()\n",
    "    elif name == \"fA_p4_allcnn\":\n",
    "        return fA_P4AllCNNC()\n",
    "    elif name == \"p4m_allcnn\":\n",
    "        return P4MAllCNNC()\n",
    "    elif name == \"fA_p4m_allcnn\":\n",
    "        return fA_P4MAllCNNC()\n",
    "    elif name == \"p4m_resnet\":\n",
    "        return P4MResNet()\n",
    "    elif name == \"fA_p4_resnet\":\n",
    "        return fA_P4MResNet()\n",
    "    elif name == \"dbageconv\":\n",
    "        return DBAGEConvNet()\n",
    "    else:\n",
    "        raise ValueError(f\"Unknown model name: {name}\")\n",
    "\n",
    "def init_optimizer(model, lr, weight_decay):\n",
    "    return optim.SGD(model.parameters(), lr=lr, momentum=0.9, weight_decay=weight_decay)\n",
    "\n",
    "def init_scheduler(optimizer, milestones):\n",
    "    return optim.lr_scheduler.MultiStepLR(optimizer, milestones=[200, 250, 300], gamma=0.1)\n",
    "\n",
    "# ----- Helper Classes -----\n",
    "@dataclass\n",
    "class HyperParams:\n",
    "    lr: float\n",
    "    epochs: int\n",
    "    weight_decay: float\n",
    "    momentum: float\n",
    "    gamma: float\n",
    "    milestones: List[int] = field(default_factory=list)"
   ]
  },
  {
   "cell_type": "code",
   "execution_count": null,
   "id": "9f09d087-4b4d-474a-ac17-1f4d87ae7cb4",
   "metadata": {
    "id": "9f09d087-4b4d-474a-ac17-1f4d87ae7cb4"
   },
   "outputs": [],
   "source": [
    "# ----- Configuration -----\n",
    "num_iterations = 1\n",
    "log_dir = \"../logs\"\n",
    "\n",
    "model_hyperparameters = {\n",
    "    \"dbageconv\":  HyperParams(lr=0.01, epochs=300, weight_decay=1e-3, momentum=0.9, milestones=[200, 250, 300], gamma=0.1),\n",
    "    \"p4_allcnn\":  HyperParams(lr=0.01, epochs=350, weight_decay=1e-3, momentum=0.9, milestones=[200, 250, 300], gamma=0.1),\n",
    "    \"fA_p4_allcnn\": HyperParams(lr=0.01, epochs=85, weight_decay=1e-3, momentum=0.9, milestones=[200, 250, 300], gamma=0.1),\n",
    "    \"p4m_allcnn\": HyperParams(lr=0.01, epochs=50, weight_decay=1e-3, momentum=0.9, milestones=[200, 250, 300], gamma=0.1),\n",
    "    \"fA_p4m_allcnn\": HyperParams(lr=0.01, epochs=45, weight_decay=1e-3, momentum=0.9, milestones=[200, 250, 300], gamma=0.1),\n",
    "    \"p4m_resnet\": HyperParams(lr=0.05, epochs=45, weight_decay=0.0, momentum=0.9, milestones=[50, 100, 150], gamma=0.1),\n",
    "    \"fA_p4_resnet\": HyperParams(lr=0.05, epochs=30, weight_decay=0.0, momentum=0.9, milestones=[50, 100, 150], gamma=0.1)\n",
    "}\n",
    "model_names = model_hyperparameters.keys()\n",
    "accuracies = {name: [] for name in model_names}"
   ]
  },
  {
   "cell_type": "code",
   "execution_count": null,
   "id": "3eec0884-5ebf-44a7-b0e7-dcf1f71216db",
   "metadata": {
    "colab": {
     "base_uri": "https://localhost:8080/"
    },
    "id": "3eec0884-5ebf-44a7-b0e7-dcf1f71216db",
    "outputId": "6dbdf5f8-7f8a-489f-ebd9-16953c431575"
   },
   "outputs": [],
   "source": [
    "checkpoint_dir = \"../checkpoints\" # \"checkpoints\"\n",
    "os.makedirs(checkpoint_dir, exist_ok=True)\n",
    "\n",
    "def get_latest_checkpoint(model_name):\n",
    "    files = os.listdir(checkpoint_dir)\n",
    "    pattern = re.compile(f\"{re.escape(model_name)}_epoch(\\\\d+).pt\")\n",
    "    checkpoints = [(int(m.group(1)), os.path.join(checkpoint_dir, f))\n",
    "                   for f in files if (m := pattern.match(f))]\n",
    "    if checkpoints:\n",
    "        return max(checkpoints)  # returns (epoch, filepath)\n",
    "    return None\n",
    "\n",
    "# ----- Main Training Loop -----\n",
    "for it in range(num_iterations):\n",
    "    print(f\"Iteration {it + 1}/{num_iterations}\")\n",
    "\n",
    "    for name in model_names:\n",
    "        print(f\"\\n→ Training model: {name}\")\n",
    "\n",
    "        # 1. Grab hyperparams for this model\n",
    "        hp = model_hyperparameters[name]\n",
    "\n",
    "        # 2. Check if a checkpoint exists\n",
    "        checkpoint_info = get_latest_checkpoint(name)\n",
    "        model = init_model(name)\n",
    "        start_epoch = 0\n",
    "\n",
    "        if checkpoint_info:\n",
    "            start_epoch, checkpoint_path = checkpoint_info\n",
    "            print(f\"→ Found checkpoint at epoch {start_epoch}: {checkpoint_path}\")\n",
    "            model.load_state_dict(torch.load(checkpoint_path))\n",
    "        else:\n",
    "            print(f\"→ No checkpoint for {name}. Training from scratch.\")\n",
    "\n",
    "        # 3. Setup training components\n",
    "        criterion = nn.CrossEntropyLoss()\n",
    "        optimizer = init_optimizer(model, hp.lr, hp.weight_decay)\n",
    "        scheduler = init_scheduler(optimizer, hp.milestones)\n",
    "\n",
    "        trainer = Trainer(\n",
    "            models={name: model},\n",
    "            optimizers=[optimizer],\n",
    "            criterions=[criterion],\n",
    "            schedulers=[scheduler],\n",
    "            log_dir=f\"{log_dir}/{name}\"\n",
    "        )\n",
    "\n",
    "        # 4. Train only the remaining epochs\n",
    "        remaining_epochs = hp.epochs - start_epoch\n",
    "        if remaining_epochs > 0:\n",
    "            trainer.train(\n",
    "                num_epochs=remaining_epochs,\n",
    "                train_loader=train_loader,\n",
    "                val_loader=val_loader\n",
    "            )\n",
    "\n",
    "            final_epoch = start_epoch + remaining_epochs\n",
    "            new_checkpoint_path = os.path.join(checkpoint_dir, f\"{name}_epoch{final_epoch}.pt\")\n",
    "            torch.save(model.state_dict(), new_checkpoint_path)\n",
    "            print(f\"✓ Saved checkpoint to {new_checkpoint_path}\")\n",
    "        else:\n",
    "            print(f\"✓ {name} already trained for {hp.epochs} epochs. Skipping.\")\n",
    "\n",
    "        # 5. Evaluate and store results\n",
    "        test_acc = trainer.evaluate(test_loader=test_loader)[name]\n",
    "        accuracies[name].append(test_acc)\n"
   ]
  },
  {
   "cell_type": "code",
   "execution_count": null,
   "id": "9a805b45-7bdd-4bc9-84ca-581d7f5587f6",
   "metadata": {
    "id": "9a805b45-7bdd-4bc9-84ca-581d7f5587f6"
   },
   "outputs": [],
   "source": [
    "# ----- Final Statistics -----\n",
    "final_stats = {\n",
    "    name: {\n",
    "        \"% Test error\": (1 - float(np.mean(vals))) * 100,\n",
    "        \"% std\": float(np.std(vals)) * 100,\n",
    "        \"Num Parameters\": sum(p.numel() for p in init_model(name).parameters())\n",
    "    }\n",
    "    for name, vals in accuracies.items()\n",
    "}"
   ]
  },
  {
   "cell_type": "markdown",
   "id": "2e2827a4-7a77-4f14-b1e4-f9eb7f10fd80",
   "metadata": {
    "id": "2e2827a4-7a77-4f14-b1e4-f9eb7f10fd80"
   },
   "source": [
    "## Table generation"
   ]
  },
  {
   "cell_type": "code",
   "execution_count": null,
   "id": "4dfa9492-1e4e-4e19-ad0f-7a384fa167f5",
   "metadata": {
    "id": "4dfa9492-1e4e-4e19-ad0f-7a384fa167f5"
   },
   "outputs": [],
   "source": [
    "df = pd.DataFrame.from_dict(final_stats, orient='index')\n",
    "df = df.round(2)\n",
    "print(\"📊 Model Accuracy Summary in CIFAR10\\n\")\n",
    "print(tabulate(df, headers=\"keys\", tablefmt=\"fancy_grid\"))"
   ]
  }
 ],
 "metadata": {
  "accelerator": "GPU",
  "colab": {
   "gpuType": "T4",
   "provenance": []
  },
  "kernelspec": {
   "display_name": "Python 3 (ipykernel)",
   "language": "python",
   "name": "python3"
  },
  "language_info": {
   "codemirror_mode": {
    "name": "ipython",
    "version": 3
   },
   "file_extension": ".py",
   "mimetype": "text/x-python",
   "name": "python",
   "nbconvert_exporter": "python",
   "pygments_lexer": "ipython3",
   "version": "3.12.9"
  }
 },
 "nbformat": 4,
 "nbformat_minor": 5
}
